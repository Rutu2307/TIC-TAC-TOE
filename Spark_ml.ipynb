{
  "nbformat": 4,
  "nbformat_minor": 0,
  "metadata": {
    "colab": {
      "name": "Spark_ml.ipynb",
      "provenance": [],
      "collapsed_sections": [],
      "authorship_tag": "ABX9TyPFMjZoQkOZ7zC6ErSyNsFG",
      "include_colab_link": true
    },
    "kernelspec": {
      "name": "python3",
      "display_name": "Python 3"
    },
    "language_info": {
      "name": "python"
    }
  },
  "cells": [
    {
      "cell_type": "markdown",
      "metadata": {
        "id": "view-in-github",
        "colab_type": "text"
      },
      "source": [
        "<a href=\"https://colab.research.google.com/github/Rutu2307/TIC-TAC-TOE/blob/main/Spark_ml.ipynb\" target=\"_parent\"><img src=\"https://colab.research.google.com/assets/colab-badge.svg\" alt=\"Open In Colab\"/></a>"
      ]
    },
    {
      "cell_type": "code",
      "metadata": {
        "colab": {
          "base_uri": "https://localhost:8080/"
        },
        "id": "6BL-gJGwo2sD",
        "outputId": "270d0dbb-738b-4cbc-9f55-114258d61329"
      },
      "source": [
        "iris_data.data"
      ],
      "execution_count": null,
      "outputs": [
        {
          "output_type": "execute_result",
          "data": {
            "text/plain": [
              "array([[5.1, 3.5, 1.4, 0.2],\n",
              "       [4.9, 3. , 1.4, 0.2],\n",
              "       [4.7, 3.2, 1.3, 0.2],\n",
              "       [4.6, 3.1, 1.5, 0.2],\n",
              "       [5. , 3.6, 1.4, 0.2],\n",
              "       [5.4, 3.9, 1.7, 0.4],\n",
              "       [4.6, 3.4, 1.4, 0.3],\n",
              "       [5. , 3.4, 1.5, 0.2],\n",
              "       [4.4, 2.9, 1.4, 0.2],\n",
              "       [4.9, 3.1, 1.5, 0.1],\n",
              "       [5.4, 3.7, 1.5, 0.2],\n",
              "       [4.8, 3.4, 1.6, 0.2],\n",
              "       [4.8, 3. , 1.4, 0.1],\n",
              "       [4.3, 3. , 1.1, 0.1],\n",
              "       [5.8, 4. , 1.2, 0.2],\n",
              "       [5.7, 4.4, 1.5, 0.4],\n",
              "       [5.4, 3.9, 1.3, 0.4],\n",
              "       [5.1, 3.5, 1.4, 0.3],\n",
              "       [5.7, 3.8, 1.7, 0.3],\n",
              "       [5.1, 3.8, 1.5, 0.3],\n",
              "       [5.4, 3.4, 1.7, 0.2],\n",
              "       [5.1, 3.7, 1.5, 0.4],\n",
              "       [4.6, 3.6, 1. , 0.2],\n",
              "       [5.1, 3.3, 1.7, 0.5],\n",
              "       [4.8, 3.4, 1.9, 0.2],\n",
              "       [5. , 3. , 1.6, 0.2],\n",
              "       [5. , 3.4, 1.6, 0.4],\n",
              "       [5.2, 3.5, 1.5, 0.2],\n",
              "       [5.2, 3.4, 1.4, 0.2],\n",
              "       [4.7, 3.2, 1.6, 0.2],\n",
              "       [4.8, 3.1, 1.6, 0.2],\n",
              "       [5.4, 3.4, 1.5, 0.4],\n",
              "       [5.2, 4.1, 1.5, 0.1],\n",
              "       [5.5, 4.2, 1.4, 0.2],\n",
              "       [4.9, 3.1, 1.5, 0.2],\n",
              "       [5. , 3.2, 1.2, 0.2],\n",
              "       [5.5, 3.5, 1.3, 0.2],\n",
              "       [4.9, 3.6, 1.4, 0.1],\n",
              "       [4.4, 3. , 1.3, 0.2],\n",
              "       [5.1, 3.4, 1.5, 0.2],\n",
              "       [5. , 3.5, 1.3, 0.3],\n",
              "       [4.5, 2.3, 1.3, 0.3],\n",
              "       [4.4, 3.2, 1.3, 0.2],\n",
              "       [5. , 3.5, 1.6, 0.6],\n",
              "       [5.1, 3.8, 1.9, 0.4],\n",
              "       [4.8, 3. , 1.4, 0.3],\n",
              "       [5.1, 3.8, 1.6, 0.2],\n",
              "       [4.6, 3.2, 1.4, 0.2],\n",
              "       [5.3, 3.7, 1.5, 0.2],\n",
              "       [5. , 3.3, 1.4, 0.2],\n",
              "       [7. , 3.2, 4.7, 1.4],\n",
              "       [6.4, 3.2, 4.5, 1.5],\n",
              "       [6.9, 3.1, 4.9, 1.5],\n",
              "       [5.5, 2.3, 4. , 1.3],\n",
              "       [6.5, 2.8, 4.6, 1.5],\n",
              "       [5.7, 2.8, 4.5, 1.3],\n",
              "       [6.3, 3.3, 4.7, 1.6],\n",
              "       [4.9, 2.4, 3.3, 1. ],\n",
              "       [6.6, 2.9, 4.6, 1.3],\n",
              "       [5.2, 2.7, 3.9, 1.4],\n",
              "       [5. , 2. , 3.5, 1. ],\n",
              "       [5.9, 3. , 4.2, 1.5],\n",
              "       [6. , 2.2, 4. , 1. ],\n",
              "       [6.1, 2.9, 4.7, 1.4],\n",
              "       [5.6, 2.9, 3.6, 1.3],\n",
              "       [6.7, 3.1, 4.4, 1.4],\n",
              "       [5.6, 3. , 4.5, 1.5],\n",
              "       [5.8, 2.7, 4.1, 1. ],\n",
              "       [6.2, 2.2, 4.5, 1.5],\n",
              "       [5.6, 2.5, 3.9, 1.1],\n",
              "       [5.9, 3.2, 4.8, 1.8],\n",
              "       [6.1, 2.8, 4. , 1.3],\n",
              "       [6.3, 2.5, 4.9, 1.5],\n",
              "       [6.1, 2.8, 4.7, 1.2],\n",
              "       [6.4, 2.9, 4.3, 1.3],\n",
              "       [6.6, 3. , 4.4, 1.4],\n",
              "       [6.8, 2.8, 4.8, 1.4],\n",
              "       [6.7, 3. , 5. , 1.7],\n",
              "       [6. , 2.9, 4.5, 1.5],\n",
              "       [5.7, 2.6, 3.5, 1. ],\n",
              "       [5.5, 2.4, 3.8, 1.1],\n",
              "       [5.5, 2.4, 3.7, 1. ],\n",
              "       [5.8, 2.7, 3.9, 1.2],\n",
              "       [6. , 2.7, 5.1, 1.6],\n",
              "       [5.4, 3. , 4.5, 1.5],\n",
              "       [6. , 3.4, 4.5, 1.6],\n",
              "       [6.7, 3.1, 4.7, 1.5],\n",
              "       [6.3, 2.3, 4.4, 1.3],\n",
              "       [5.6, 3. , 4.1, 1.3],\n",
              "       [5.5, 2.5, 4. , 1.3],\n",
              "       [5.5, 2.6, 4.4, 1.2],\n",
              "       [6.1, 3. , 4.6, 1.4],\n",
              "       [5.8, 2.6, 4. , 1.2],\n",
              "       [5. , 2.3, 3.3, 1. ],\n",
              "       [5.6, 2.7, 4.2, 1.3],\n",
              "       [5.7, 3. , 4.2, 1.2],\n",
              "       [5.7, 2.9, 4.2, 1.3],\n",
              "       [6.2, 2.9, 4.3, 1.3],\n",
              "       [5.1, 2.5, 3. , 1.1],\n",
              "       [5.7, 2.8, 4.1, 1.3],\n",
              "       [6.3, 3.3, 6. , 2.5],\n",
              "       [5.8, 2.7, 5.1, 1.9],\n",
              "       [7.1, 3. , 5.9, 2.1],\n",
              "       [6.3, 2.9, 5.6, 1.8],\n",
              "       [6.5, 3. , 5.8, 2.2],\n",
              "       [7.6, 3. , 6.6, 2.1],\n",
              "       [4.9, 2.5, 4.5, 1.7],\n",
              "       [7.3, 2.9, 6.3, 1.8],\n",
              "       [6.7, 2.5, 5.8, 1.8],\n",
              "       [7.2, 3.6, 6.1, 2.5],\n",
              "       [6.5, 3.2, 5.1, 2. ],\n",
              "       [6.4, 2.7, 5.3, 1.9],\n",
              "       [6.8, 3. , 5.5, 2.1],\n",
              "       [5.7, 2.5, 5. , 2. ],\n",
              "       [5.8, 2.8, 5.1, 2.4],\n",
              "       [6.4, 3.2, 5.3, 2.3],\n",
              "       [6.5, 3. , 5.5, 1.8],\n",
              "       [7.7, 3.8, 6.7, 2.2],\n",
              "       [7.7, 2.6, 6.9, 2.3],\n",
              "       [6. , 2.2, 5. , 1.5],\n",
              "       [6.9, 3.2, 5.7, 2.3],\n",
              "       [5.6, 2.8, 4.9, 2. ],\n",
              "       [7.7, 2.8, 6.7, 2. ],\n",
              "       [6.3, 2.7, 4.9, 1.8],\n",
              "       [6.7, 3.3, 5.7, 2.1],\n",
              "       [7.2, 3.2, 6. , 1.8],\n",
              "       [6.2, 2.8, 4.8, 1.8],\n",
              "       [6.1, 3. , 4.9, 1.8],\n",
              "       [6.4, 2.8, 5.6, 2.1],\n",
              "       [7.2, 3. , 5.8, 1.6],\n",
              "       [7.4, 2.8, 6.1, 1.9],\n",
              "       [7.9, 3.8, 6.4, 2. ],\n",
              "       [6.4, 2.8, 5.6, 2.2],\n",
              "       [6.3, 2.8, 5.1, 1.5],\n",
              "       [6.1, 2.6, 5.6, 1.4],\n",
              "       [7.7, 3. , 6.1, 2.3],\n",
              "       [6.3, 3.4, 5.6, 2.4],\n",
              "       [6.4, 3.1, 5.5, 1.8],\n",
              "       [6. , 3. , 4.8, 1.8],\n",
              "       [6.9, 3.1, 5.4, 2.1],\n",
              "       [6.7, 3.1, 5.6, 2.4],\n",
              "       [6.9, 3.1, 5.1, 2.3],\n",
              "       [5.8, 2.7, 5.1, 1.9],\n",
              "       [6.8, 3.2, 5.9, 2.3],\n",
              "       [6.7, 3.3, 5.7, 2.5],\n",
              "       [6.7, 3. , 5.2, 2.3],\n",
              "       [6.3, 2.5, 5. , 1.9],\n",
              "       [6.5, 3. , 5.2, 2. ],\n",
              "       [6.2, 3.4, 5.4, 2.3],\n",
              "       [5.9, 3. , 5.1, 1.8]])"
            ]
          },
          "metadata": {
            "tags": []
          },
          "execution_count": 137
        }
      ]
    },
    {
      "cell_type": "code",
      "metadata": {
        "colab": {
          "base_uri": "https://localhost:8080/"
        },
        "id": "Rhq6gpmCndHm",
        "outputId": "1334a895-da45-4316-bff7-4e8192e29d34"
      },
      "source": [
        "!pip install pyspark"
      ],
      "execution_count": null,
      "outputs": [
        {
          "output_type": "stream",
          "text": [
            "Requirement already satisfied: pyspark in /usr/local/lib/python3.7/dist-packages (3.1.2)\n",
            "Requirement already satisfied: py4j==0.10.9 in /usr/local/lib/python3.7/dist-packages (from pyspark) (0.10.9)\n"
          ],
          "name": "stdout"
        }
      ]
    },
    {
      "cell_type": "code",
      "metadata": {
        "id": "VTjdt6B3oLSJ"
      },
      "source": [
        "import pandas as pd\n",
        "from pyspark.sql import SparkSession\n",
        "from sklearn import datasets"
      ],
      "execution_count": null,
      "outputs": []
    },
    {
      "cell_type": "code",
      "metadata": {
        "id": "fI4JXcovov9f"
      },
      "source": [
        "iris_data = datasets.load_iris() "
      ],
      "execution_count": null,
      "outputs": []
    },
    {
      "cell_type": "code",
      "metadata": {
        "id": "vuSqoLxbpC53"
      },
      "source": [
        "#create a pandas dataframe from iris_datasets.data\n",
        "pd_df = pd.DataFrame(iris_data.data)"
      ],
      "execution_count": null,
      "outputs": []
    },
    {
      "cell_type": "code",
      "metadata": {
        "colab": {
          "base_uri": "https://localhost:8080/",
          "height": 206
        },
        "id": "GPR69s3ypSrz",
        "outputId": "6ca00391-e606-4af3-9298-8d02336614ef"
      },
      "source": [
        "pd_df.head()"
      ],
      "execution_count": null,
      "outputs": [
        {
          "output_type": "execute_result",
          "data": {
            "text/html": [
              "<div>\n",
              "<style scoped>\n",
              "    .dataframe tbody tr th:only-of-type {\n",
              "        vertical-align: middle;\n",
              "    }\n",
              "\n",
              "    .dataframe tbody tr th {\n",
              "        vertical-align: top;\n",
              "    }\n",
              "\n",
              "    .dataframe thead th {\n",
              "        text-align: right;\n",
              "    }\n",
              "</style>\n",
              "<table border=\"1\" class=\"dataframe\">\n",
              "  <thead>\n",
              "    <tr style=\"text-align: right;\">\n",
              "      <th></th>\n",
              "      <th>0</th>\n",
              "      <th>1</th>\n",
              "      <th>2</th>\n",
              "      <th>3</th>\n",
              "    </tr>\n",
              "  </thead>\n",
              "  <tbody>\n",
              "    <tr>\n",
              "      <th>0</th>\n",
              "      <td>5.1</td>\n",
              "      <td>3.5</td>\n",
              "      <td>1.4</td>\n",
              "      <td>0.2</td>\n",
              "    </tr>\n",
              "    <tr>\n",
              "      <th>1</th>\n",
              "      <td>4.9</td>\n",
              "      <td>3.0</td>\n",
              "      <td>1.4</td>\n",
              "      <td>0.2</td>\n",
              "    </tr>\n",
              "    <tr>\n",
              "      <th>2</th>\n",
              "      <td>4.7</td>\n",
              "      <td>3.2</td>\n",
              "      <td>1.3</td>\n",
              "      <td>0.2</td>\n",
              "    </tr>\n",
              "    <tr>\n",
              "      <th>3</th>\n",
              "      <td>4.6</td>\n",
              "      <td>3.1</td>\n",
              "      <td>1.5</td>\n",
              "      <td>0.2</td>\n",
              "    </tr>\n",
              "    <tr>\n",
              "      <th>4</th>\n",
              "      <td>5.0</td>\n",
              "      <td>3.6</td>\n",
              "      <td>1.4</td>\n",
              "      <td>0.2</td>\n",
              "    </tr>\n",
              "  </tbody>\n",
              "</table>\n",
              "</div>"
            ],
            "text/plain": [
              "     0    1    2    3\n",
              "0  5.1  3.5  1.4  0.2\n",
              "1  4.9  3.0  1.4  0.2\n",
              "2  4.7  3.2  1.3  0.2\n",
              "3  4.6  3.1  1.5  0.2\n",
              "4  5.0  3.6  1.4  0.2"
            ]
          },
          "metadata": {
            "tags": []
          },
          "execution_count": 142
        }
      ]
    },
    {
      "cell_type": "code",
      "metadata": {
        "colab": {
          "base_uri": "https://localhost:8080/"
        },
        "id": "cbV4rPXNpelN",
        "outputId": "cbf7d5ab-12bd-4c8f-92d9-269f16266dee"
      },
      "source": [
        "type(iris_data)"
      ],
      "execution_count": null,
      "outputs": [
        {
          "output_type": "execute_result",
          "data": {
            "text/plain": [
              "sklearn.utils.Bunch"
            ]
          },
          "metadata": {
            "tags": []
          },
          "execution_count": 143
        }
      ]
    },
    {
      "cell_type": "code",
      "metadata": {
        "colab": {
          "base_uri": "https://localhost:8080/"
        },
        "id": "S9hUyvI4qma7",
        "outputId": "0e7f2349-23e0-454d-e645-fb9a5c4bf969"
      },
      "source": [
        "#check the column names\n",
        "pd_df.columns"
      ],
      "execution_count": null,
      "outputs": [
        {
          "output_type": "execute_result",
          "data": {
            "text/plain": [
              "RangeIndex(start=0, stop=4, step=1)"
            ]
          },
          "metadata": {
            "tags": []
          },
          "execution_count": 144
        }
      ]
    },
    {
      "cell_type": "code",
      "metadata": {
        "id": "OLf5OIu9q0lx"
      },
      "source": [
        "#give them proper column names\n",
        "pd_df.columns = ['sepal_length','sepal_width','petal_length','petal_width']"
      ],
      "execution_count": null,
      "outputs": []
    },
    {
      "cell_type": "code",
      "metadata": {
        "colab": {
          "base_uri": "https://localhost:8080/"
        },
        "id": "j8w3ng9QrcWG",
        "outputId": "bdad652c-cdbd-4d0f-ac4f-b197446f4617"
      },
      "source": [
        "pd_df.columns"
      ],
      "execution_count": null,
      "outputs": [
        {
          "output_type": "execute_result",
          "data": {
            "text/plain": [
              "Index(['sepal_length', 'sepal_width', 'petal_length', 'petal_width'], dtype='object')"
            ]
          },
          "metadata": {
            "tags": []
          },
          "execution_count": 146
        }
      ]
    },
    {
      "cell_type": "code",
      "metadata": {
        "colab": {
          "base_uri": "https://localhost:8080/"
        },
        "id": "gyImd8PJrqOC",
        "outputId": "aaa03672-6ffe-494f-92fc-4cf824279316"
      },
      "source": [
        "#another way to assign column name\n",
        "iris_data.feature_names"
      ],
      "execution_count": null,
      "outputs": [
        {
          "output_type": "execute_result",
          "data": {
            "text/plain": [
              "['sepal length (cm)',\n",
              " 'sepal width (cm)',\n",
              " 'petal length (cm)',\n",
              " 'petal width (cm)']"
            ]
          },
          "metadata": {
            "tags": []
          },
          "execution_count": 147
        }
      ]
    },
    {
      "cell_type": "code",
      "metadata": {
        "id": "WSCtzykDr0a9"
      },
      "source": [
        "#pd_df.columns = iris_data.feature_names"
      ],
      "execution_count": null,
      "outputs": []
    },
    {
      "cell_type": "code",
      "metadata": {
        "colab": {
          "base_uri": "https://localhost:8080/"
        },
        "id": "9A23x1lGr5En",
        "outputId": "80461f73-7cc0-4fae-bd8f-6918729812ea"
      },
      "source": [
        "pd_df.columns"
      ],
      "execution_count": null,
      "outputs": [
        {
          "output_type": "execute_result",
          "data": {
            "text/plain": [
              "Index(['sepal_length', 'sepal_width', 'petal_length', 'petal_width'], dtype='object')"
            ]
          },
          "metadata": {
            "tags": []
          },
          "execution_count": 149
        }
      ]
    },
    {
      "cell_type": "markdown",
      "metadata": {
        "id": "IlSyA74Tr9a8"
      },
      "source": [
        "Let's create SparkSession object"
      ]
    },
    {
      "cell_type": "code",
      "metadata": {
        "id": "ON51qlXkr8W7"
      },
      "source": [
        "ss = SparkSession.builder.appName('UDFpySparkApp').getOrCreate()"
      ],
      "execution_count": null,
      "outputs": []
    },
    {
      "cell_type": "code",
      "metadata": {
        "id": "n5Yz4CG_xQsG"
      },
      "source": [
        "#ss_df = ss.createDataFrame(pd_df)"
      ],
      "execution_count": null,
      "outputs": []
    },
    {
      "cell_type": "code",
      "metadata": {
        "id": "h4VJgp0AsdU8"
      },
      "source": [
        "ss_df = ss.createDataFrame(pd_df)"
      ],
      "execution_count": null,
      "outputs": []
    },
    {
      "cell_type": "code",
      "metadata": {
        "id": "c187rAYTsmoo",
        "colab": {
          "base_uri": "https://localhost:8080/"
        },
        "outputId": "cd472e95-f2bb-446d-8b95-37aba49d702b"
      },
      "source": [
        "ss_df"
      ],
      "execution_count": null,
      "outputs": [
        {
          "output_type": "execute_result",
          "data": {
            "text/plain": [
              "DataFrame[sepal_length: double, sepal_width: double, petal_length: double, petal_width: double]"
            ]
          },
          "metadata": {
            "tags": []
          },
          "execution_count": 153
        }
      ]
    },
    {
      "cell_type": "code",
      "metadata": {
        "id": "2pDpi3iCsqWi",
        "colab": {
          "base_uri": "https://localhost:8080/"
        },
        "outputId": "c3ccb637-8d5a-43f1-edf6-3de744a30da7"
      },
      "source": [
        "#show data\n",
        "ss_df.show()"
      ],
      "execution_count": null,
      "outputs": [
        {
          "output_type": "stream",
          "text": [
            "+------------+-----------+------------+-----------+\n",
            "|sepal_length|sepal_width|petal_length|petal_width|\n",
            "+------------+-----------+------------+-----------+\n",
            "|         5.1|        3.5|         1.4|        0.2|\n",
            "|         4.9|        3.0|         1.4|        0.2|\n",
            "|         4.7|        3.2|         1.3|        0.2|\n",
            "|         4.6|        3.1|         1.5|        0.2|\n",
            "|         5.0|        3.6|         1.4|        0.2|\n",
            "|         5.4|        3.9|         1.7|        0.4|\n",
            "|         4.6|        3.4|         1.4|        0.3|\n",
            "|         5.0|        3.4|         1.5|        0.2|\n",
            "|         4.4|        2.9|         1.4|        0.2|\n",
            "|         4.9|        3.1|         1.5|        0.1|\n",
            "|         5.4|        3.7|         1.5|        0.2|\n",
            "|         4.8|        3.4|         1.6|        0.2|\n",
            "|         4.8|        3.0|         1.4|        0.1|\n",
            "|         4.3|        3.0|         1.1|        0.1|\n",
            "|         5.8|        4.0|         1.2|        0.2|\n",
            "|         5.7|        4.4|         1.5|        0.4|\n",
            "|         5.4|        3.9|         1.3|        0.4|\n",
            "|         5.1|        3.5|         1.4|        0.3|\n",
            "|         5.7|        3.8|         1.7|        0.3|\n",
            "|         5.1|        3.8|         1.5|        0.3|\n",
            "+------------+-----------+------------+-----------+\n",
            "only showing top 20 rows\n",
            "\n"
          ],
          "name": "stdout"
        }
      ]
    },
    {
      "cell_type": "code",
      "metadata": {
        "id": "JGc9xTves0yV"
      },
      "source": [
        ""
      ],
      "execution_count": null,
      "outputs": []
    },
    {
      "cell_type": "markdown",
      "metadata": {
        "id": "sJlouQ1Ns-sn"
      },
      "source": [
        "UDF-user define functions"
      ]
    },
    {
      "cell_type": "code",
      "metadata": {
        "id": "7PIQBGGltJ-2"
      },
      "source": [
        "from pyspark.sql.functions import pandas_udf\n",
        "\n",
        "@pandas_udf('long')\n",
        "def double_value(series: pd.Series) ->pd.Series:\n",
        "  return series * 2"
      ],
      "execution_count": null,
      "outputs": []
    },
    {
      "cell_type": "code",
      "metadata": {
        "id": "Y9lOGmVyuLhJ",
        "colab": {
          "base_uri": "https://localhost:8080/"
        },
        "outputId": "0a960132-47fb-409f-b01e-b962998cd278"
      },
      "source": [
        "ss_df.select(double_value(ss_df.sepal_length)).show()# we can add limit in show and by default it gives 20"
      ],
      "execution_count": null,
      "outputs": [
        {
          "output_type": "stream",
          "text": [
            "+--------------------------+\n",
            "|double_value(sepal_length)|\n",
            "+--------------------------+\n",
            "|                        10|\n",
            "|                         9|\n",
            "|                         9|\n",
            "|                         9|\n",
            "|                        10|\n",
            "|                        10|\n",
            "|                         9|\n",
            "|                        10|\n",
            "|                         8|\n",
            "|                         9|\n",
            "|                        10|\n",
            "|                         9|\n",
            "|                         9|\n",
            "|                         8|\n",
            "|                        11|\n",
            "|                        11|\n",
            "|                        10|\n",
            "|                        10|\n",
            "|                        11|\n",
            "|                        10|\n",
            "+--------------------------+\n",
            "only showing top 20 rows\n",
            "\n"
          ],
          "name": "stdout"
        }
      ]
    },
    {
      "cell_type": "code",
      "metadata": {
        "id": "1lfYapiru0kB"
      },
      "source": [
        "#filter operation [yeild means keep those]\n",
        "def filter_function():\n",
        "  for df in iterator:\n",
        "    yield df[df.petal_length >= 1.5]"
      ],
      "execution_count": null,
      "outputs": []
    },
    {
      "cell_type": "code",
      "metadata": {
        "id": "ffX8H2b-wzHx",
        "colab": {
          "base_uri": "https://localhost:8080/"
        },
        "outputId": "af28f7d9-d01a-4c65-ab59-6fdb5017a007"
      },
      "source": [
        "ss_df.schema"
      ],
      "execution_count": null,
      "outputs": [
        {
          "output_type": "execute_result",
          "data": {
            "text/plain": [
              "StructType(List(StructField(sepal_length,DoubleType,true),StructField(sepal_width,DoubleType,true),StructField(petal_length,DoubleType,true),StructField(petal_width,DoubleType,true)))"
            ]
          },
          "metadata": {
            "tags": []
          },
          "execution_count": 158
        }
      ]
    },
    {
      "cell_type": "code",
      "metadata": {
        "id": "p4kAPXDewn5E",
        "colab": {
          "base_uri": "https://localhost:8080/"
        },
        "outputId": "04fbb70c-bf5b-4bb8-84ec-5dc989d388e7"
      },
      "source": [
        "#map function is kind of iterator\n",
        "ss_df.mapInPandas(filter_function,schema=ss_df.schema)"
      ],
      "execution_count": null,
      "outputs": [
        {
          "output_type": "execute_result",
          "data": {
            "text/plain": [
              "DataFrame[sepal_length: double, sepal_width: double, petal_length: double, petal_width: double]"
            ]
          },
          "metadata": {
            "tags": []
          },
          "execution_count": 159
        }
      ]
    },
    {
      "cell_type": "code",
      "metadata": {
        "id": "bII1b9xexO6n",
        "colab": {
          "base_uri": "https://localhost:8080/"
        },
        "outputId": "3cbe96bd-7109-4cd9-b1b0-d1e09013cd02"
      },
      "source": [
        "ss_df.show() # in petal lenght we will get data = to 1.5 or >"
      ],
      "execution_count": null,
      "outputs": [
        {
          "output_type": "stream",
          "text": [
            "+------------+-----------+------------+-----------+\n",
            "|sepal_length|sepal_width|petal_length|petal_width|\n",
            "+------------+-----------+------------+-----------+\n",
            "|         5.1|        3.5|         1.4|        0.2|\n",
            "|         4.9|        3.0|         1.4|        0.2|\n",
            "|         4.7|        3.2|         1.3|        0.2|\n",
            "|         4.6|        3.1|         1.5|        0.2|\n",
            "|         5.0|        3.6|         1.4|        0.2|\n",
            "|         5.4|        3.9|         1.7|        0.4|\n",
            "|         4.6|        3.4|         1.4|        0.3|\n",
            "|         5.0|        3.4|         1.5|        0.2|\n",
            "|         4.4|        2.9|         1.4|        0.2|\n",
            "|         4.9|        3.1|         1.5|        0.1|\n",
            "|         5.4|        3.7|         1.5|        0.2|\n",
            "|         4.8|        3.4|         1.6|        0.2|\n",
            "|         4.8|        3.0|         1.4|        0.1|\n",
            "|         4.3|        3.0|         1.1|        0.1|\n",
            "|         5.8|        4.0|         1.2|        0.2|\n",
            "|         5.7|        4.4|         1.5|        0.4|\n",
            "|         5.4|        3.9|         1.3|        0.4|\n",
            "|         5.1|        3.5|         1.4|        0.3|\n",
            "|         5.7|        3.8|         1.7|        0.3|\n",
            "|         5.1|        3.8|         1.5|        0.3|\n",
            "+------------+-----------+------------+-----------+\n",
            "only showing top 20 rows\n",
            "\n"
          ],
          "name": "stdout"
        }
      ]
    },
    {
      "cell_type": "code",
      "metadata": {
        "id": "JXY_f5IbwLsC"
      },
      "source": [
        "#iterator needs map in pandas , it doesnt work with select\n",
        "#ss_df.select(filter_function(ss_df)).show()"
      ],
      "execution_count": null,
      "outputs": []
    },
    {
      "cell_type": "code",
      "metadata": {
        "id": "DZ8vwNway1FS"
      },
      "source": [
        ""
      ],
      "execution_count": null,
      "outputs": []
    },
    {
      "cell_type": "markdown",
      "metadata": {
        "id": "TPvL6ph30GSn"
      },
      "source": [
        "Handling different file formates"
      ]
    },
    {
      "cell_type": "code",
      "metadata": {
        "id": "R3CCY5TNy891"
      },
      "source": [
        "test_csv = ss.read.csv('/content/test1.csv',header=True)"
      ],
      "execution_count": null,
      "outputs": []
    },
    {
      "cell_type": "code",
      "metadata": {
        "id": "FQxPuLVk2Ei6",
        "colab": {
          "base_uri": "https://localhost:8080/"
        },
        "outputId": "c9531840-efee-461d-99ae-58b32e4978d4"
      },
      "source": [
        "test_csv.show()"
      ],
      "execution_count": null,
      "outputs": [
        {
          "output_type": "stream",
          "text": [
            "+------+-----+---+----+----+\n",
            "|values|start|end|cat1|cat2|\n",
            "+------+-----+---+----+----+\n",
            "|    10|    1|  2|   A|   B|\n",
            "|    11|    1|  2|   C|   B|\n",
            "|    12|    1|  2|   D|   B|\n",
            "|   510|    1|  2|   D|   C|\n",
            "|   550|    1|  2|   C|   B|\n",
            "|   500|    1|  2|   A|   B|\n",
            "|    80|    1|  3|   A|   B|\n",
            "+------+-----+---+----+----+\n",
            "\n"
          ],
          "name": "stdout"
        }
      ]
    },
    {
      "cell_type": "code",
      "metadata": {
        "id": "Iz2n5uS82M-C"
      },
      "source": [
        ""
      ],
      "execution_count": null,
      "outputs": []
    },
    {
      "cell_type": "markdown",
      "metadata": {
        "id": "L8xOFGtD-Qy3"
      },
      "source": [
        "MLLIB"
      ]
    },
    {
      "cell_type": "code",
      "metadata": {
        "id": "5hlPhgH_27t2"
      },
      "source": [
        "#correlation\n",
        "from pyspark.ml.linalg import Vectors\n",
        "from pyspark.ml.stat import Correlation"
      ],
      "execution_count": null,
      "outputs": []
    },
    {
      "cell_type": "code",
      "metadata": {
        "id": "pXnuIDs8-uAn"
      },
      "source": [
        "data = [(Vectors.sparse(4, [(0, 1.0), (3, -2.0)]),),\n",
        "        (Vectors.dense([4.0, 5.0, 0.0, 3.0]),),\n",
        "        (Vectors.dense([6.0, 7.0, 0.0, 8.0]),),\n",
        "        (Vectors.sparse(4, [(0, 9.0), (3, 1.0)]),)]\n"
      ],
      "execution_count": null,
      "outputs": []
    },
    {
      "cell_type": "code",
      "metadata": {
        "id": "i4Lk75YP_Ijh"
      },
      "source": [
        "d = ss.createDataFrame(data, [\"features\"])"
      ],
      "execution_count": null,
      "outputs": []
    },
    {
      "cell_type": "code",
      "metadata": {
        "id": "hQGOTul__MHk",
        "colab": {
          "base_uri": "https://localhost:8080/"
        },
        "outputId": "a75d7775-a719-45cb-e9de-26ca0cce53ff"
      },
      "source": [
        "d.show()"
      ],
      "execution_count": null,
      "outputs": [
        {
          "output_type": "stream",
          "text": [
            "+--------------------+\n",
            "|            features|\n",
            "+--------------------+\n",
            "|(4,[0,3],[1.0,-2.0])|\n",
            "|   [4.0,5.0,0.0,3.0]|\n",
            "|   [6.0,7.0,0.0,8.0]|\n",
            "| (4,[0,3],[9.0,1.0])|\n",
            "+--------------------+\n",
            "\n"
          ],
          "name": "stdout"
        }
      ]
    },
    {
      "cell_type": "code",
      "metadata": {
        "id": "X_eil8kA_eUU"
      },
      "source": [
        "r1 = Correlation.corr(d, \"features\").head()"
      ],
      "execution_count": null,
      "outputs": []
    },
    {
      "cell_type": "code",
      "metadata": {
        "id": "bAi5mpHx_rHE",
        "colab": {
          "base_uri": "https://localhost:8080/"
        },
        "outputId": "f5ca9eee-2604-41e9-8807-e9220b442c6d"
      },
      "source": [
        "type(r1)"
      ],
      "execution_count": null,
      "outputs": [
        {
          "output_type": "execute_result",
          "data": {
            "text/plain": [
              "pyspark.sql.types.Row"
            ]
          },
          "metadata": {
            "tags": []
          },
          "execution_count": 169
        }
      ]
    },
    {
      "cell_type": "code",
      "metadata": {
        "id": "ZsloXxIC_tdo",
        "colab": {
          "base_uri": "https://localhost:8080/"
        },
        "outputId": "634fcaa7-5270-4497-c77a-238bbd4cc5f6"
      },
      "source": [
        "print(\"Pearson correlation matrix:\\n\" + str(r1[0]))"
      ],
      "execution_count": null,
      "outputs": [
        {
          "output_type": "stream",
          "text": [
            "Pearson correlation matrix:\n",
            "DenseMatrix([[1.        , 0.05564149,        nan, 0.40047142],\n",
            "             [0.05564149, 1.        ,        nan, 0.91359586],\n",
            "             [       nan,        nan, 1.        ,        nan],\n",
            "             [0.40047142, 0.91359586,        nan, 1.        ]])\n"
          ],
          "name": "stdout"
        }
      ]
    },
    {
      "cell_type": "code",
      "metadata": {
        "id": "zFfj63AS_4Es",
        "colab": {
          "base_uri": "https://localhost:8080/"
        },
        "outputId": "8c2a212a-db16-49a3-f11f-3829a24c61b3"
      },
      "source": [
        "r2 = Correlation.corr(d, \"features\", \"spearman\").head()\n",
        "print(\"Spearman correlation matrix:\\n\" + str(r2[0]))"
      ],
      "execution_count": null,
      "outputs": [
        {
          "output_type": "stream",
          "text": [
            "Spearman correlation matrix:\n",
            "DenseMatrix([[1.        , 0.10540926,        nan, 0.4       ],\n",
            "             [0.10540926, 1.        ,        nan, 0.9486833 ],\n",
            "             [       nan,        nan, 1.        ,        nan],\n",
            "             [0.4       , 0.9486833 ,        nan, 1.        ]])\n"
          ],
          "name": "stdout"
        }
      ]
    },
    {
      "cell_type": "code",
      "metadata": {
        "id": "6ebvdx1P_9P1"
      },
      "source": [
        "data1 = [[1,2,3],\n",
        "        [1,2,3],  \n",
        "        [1,2,3]\n",
        "        ]"
      ],
      "execution_count": null,
      "outputs": []
    },
    {
      "cell_type": "code",
      "metadata": {
        "id": "7BurRcf4AmJO"
      },
      "source": [
        "data1_df = ss.createDataFrame(data1,['col1','col2','col3'])"
      ],
      "execution_count": null,
      "outputs": []
    },
    {
      "cell_type": "code",
      "metadata": {
        "id": "GKIuCgh0AsYC",
        "colab": {
          "base_uri": "https://localhost:8080/"
        },
        "outputId": "aeca8c92-05a6-4351-bc31-59e96153d7d3"
      },
      "source": [
        "data1_df.show()"
      ],
      "execution_count": null,
      "outputs": [
        {
          "output_type": "stream",
          "text": [
            "+----+----+----+\n",
            "|col1|col2|col3|\n",
            "+----+----+----+\n",
            "|   1|   2|   3|\n",
            "|   1|   2|   3|\n",
            "|   1|   2|   3|\n",
            "+----+----+----+\n",
            "\n"
          ],
          "name": "stdout"
        }
      ]
    },
    {
      "cell_type": "code",
      "metadata": {
        "id": "5N-IBhUuDmUw",
        "colab": {
          "base_uri": "https://localhost:8080/"
        },
        "outputId": "b5ea8a1e-30e3-4752-8a08-7338390990b5"
      },
      "source": [
        "data1_df.columns"
      ],
      "execution_count": null,
      "outputs": [
        {
          "output_type": "execute_result",
          "data": {
            "text/plain": [
              "['col1', 'col2', 'col3']"
            ]
          },
          "metadata": {
            "tags": []
          },
          "execution_count": 175
        }
      ]
    },
    {
      "cell_type": "code",
      "metadata": {
        "id": "tWCG9OMfDHQ8"
      },
      "source": [
        "from pyspark.ml.feature import VectorAssembler"
      ],
      "execution_count": null,
      "outputs": []
    },
    {
      "cell_type": "code",
      "metadata": {
        "id": "oSVzJf_rDU6i"
      },
      "source": [
        "assembler = VectorAssembler(\n",
        "    inputCols = ['col1','col2','col3'],\n",
        "    outputCol = 'features'\n",
        ")"
      ],
      "execution_count": null,
      "outputs": []
    },
    {
      "cell_type": "code",
      "metadata": {
        "id": "6p5fDid4DVNP",
        "colab": {
          "base_uri": "https://localhost:8080/"
        },
        "outputId": "94ff6c17-35e8-426f-8ed1-f6ac21b016df"
      },
      "source": [
        "assembler.transform(data1_df).show()"
      ],
      "execution_count": null,
      "outputs": [
        {
          "output_type": "stream",
          "text": [
            "+----+----+----+-------------+\n",
            "|col1|col2|col3|     features|\n",
            "+----+----+----+-------------+\n",
            "|   1|   2|   3|[1.0,2.0,3.0]|\n",
            "|   1|   2|   3|[1.0,2.0,3.0]|\n",
            "|   1|   2|   3|[1.0,2.0,3.0]|\n",
            "+----+----+----+-------------+\n",
            "\n"
          ],
          "name": "stdout"
        }
      ]
    },
    {
      "cell_type": "code",
      "metadata": {
        "id": "JqJfh_B6Eafv"
      },
      "source": [
        "data1_dff = assembler.transform(data1_df)"
      ],
      "execution_count": null,
      "outputs": []
    },
    {
      "cell_type": "code",
      "metadata": {
        "id": "mCx4F_OZA0g4"
      },
      "source": [
        "r1 = Correlation.corr(data1_dff,'features').head()"
      ],
      "execution_count": null,
      "outputs": []
    },
    {
      "cell_type": "code",
      "metadata": {
        "id": "5zQVLB-CChMX",
        "colab": {
          "base_uri": "https://localhost:8080/"
        },
        "outputId": "6825731c-9efe-40e0-c086-10191fbb9b1c"
      },
      "source": [
        "print(str(r1[0]))"
      ],
      "execution_count": null,
      "outputs": [
        {
          "output_type": "stream",
          "text": [
            "DenseMatrix([[ 1., nan, nan],\n",
            "             [nan,  1., nan],\n",
            "             [nan, nan,  1.]])\n"
          ],
          "name": "stdout"
        }
      ]
    },
    {
      "cell_type": "code",
      "metadata": {
        "id": "hG1JjEihEv3k"
      },
      "source": [
        "data1 = [[1,2],\n",
        "         [1,2]\n",
        "         \n",
        "]"
      ],
      "execution_count": null,
      "outputs": []
    },
    {
      "cell_type": "code",
      "metadata": {
        "id": "1HCIM22DE-7e",
        "colab": {
          "base_uri": "https://localhost:8080/"
        },
        "outputId": "b014d502-92cc-4098-9d4d-5ad1cd45d997"
      },
      "source": [
        "data1_df = ss.createDataFrame(data1,['col1','col2'])\n",
        "data1_df.show()"
      ],
      "execution_count": null,
      "outputs": [
        {
          "output_type": "stream",
          "text": [
            "+----+----+\n",
            "|col1|col2|\n",
            "+----+----+\n",
            "|   1|   2|\n",
            "|   1|   2|\n",
            "+----+----+\n",
            "\n"
          ],
          "name": "stdout"
        }
      ]
    },
    {
      "cell_type": "code",
      "metadata": {
        "id": "EULHOgVwFHqr"
      },
      "source": [
        "assembler = VectorAssembler(\n",
        "    inputCols = ['col1','col2'],\n",
        "    outputCol = 'features'\n",
        "\n",
        ")"
      ],
      "execution_count": null,
      "outputs": []
    },
    {
      "cell_type": "code",
      "metadata": {
        "id": "VqR3lrR2FYeg",
        "colab": {
          "base_uri": "https://localhost:8080/"
        },
        "outputId": "87039c99-8247-44df-e71d-e195ff006a90"
      },
      "source": [
        "data1_dff = assembler.transform(data1_df)\n",
        "data1_dff.show()"
      ],
      "execution_count": null,
      "outputs": [
        {
          "output_type": "stream",
          "text": [
            "+----+----+---------+\n",
            "|col1|col2| features|\n",
            "+----+----+---------+\n",
            "|   1|   2|[1.0,2.0]|\n",
            "|   1|   2|[1.0,2.0]|\n",
            "+----+----+---------+\n",
            "\n"
          ],
          "name": "stdout"
        }
      ]
    },
    {
      "cell_type": "code",
      "metadata": {
        "id": "7eNMr4KDFhPx",
        "colab": {
          "base_uri": "https://localhost:8080/"
        },
        "outputId": "dd4a9d0b-2061-4d90-d508-f7e56a24de92"
      },
      "source": [
        "r1 = Correlation.corr(data1_dff,'features').head ()\n",
        "print(str(r1[0]))"
      ],
      "execution_count": null,
      "outputs": [
        {
          "output_type": "stream",
          "text": [
            "DenseMatrix([[ 1., nan],\n",
            "             [nan,  1.]])\n"
          ],
          "name": "stdout"
        }
      ]
    },
    {
      "cell_type": "code",
      "metadata": {
        "id": "v7KbdBhqFuUC",
        "colab": {
          "base_uri": "https://localhost:8080/"
        },
        "outputId": "863c1005-0e45-4c9f-b0c4-36dfdc132af7"
      },
      "source": [
        "ss_df.show()"
      ],
      "execution_count": null,
      "outputs": [
        {
          "output_type": "stream",
          "text": [
            "+------------+-----------+------------+-----------+\n",
            "|sepal_length|sepal_width|petal_length|petal_width|\n",
            "+------------+-----------+------------+-----------+\n",
            "|         5.1|        3.5|         1.4|        0.2|\n",
            "|         4.9|        3.0|         1.4|        0.2|\n",
            "|         4.7|        3.2|         1.3|        0.2|\n",
            "|         4.6|        3.1|         1.5|        0.2|\n",
            "|         5.0|        3.6|         1.4|        0.2|\n",
            "|         5.4|        3.9|         1.7|        0.4|\n",
            "|         4.6|        3.4|         1.4|        0.3|\n",
            "|         5.0|        3.4|         1.5|        0.2|\n",
            "|         4.4|        2.9|         1.4|        0.2|\n",
            "|         4.9|        3.1|         1.5|        0.1|\n",
            "|         5.4|        3.7|         1.5|        0.2|\n",
            "|         4.8|        3.4|         1.6|        0.2|\n",
            "|         4.8|        3.0|         1.4|        0.1|\n",
            "|         4.3|        3.0|         1.1|        0.1|\n",
            "|         5.8|        4.0|         1.2|        0.2|\n",
            "|         5.7|        4.4|         1.5|        0.4|\n",
            "|         5.4|        3.9|         1.3|        0.4|\n",
            "|         5.1|        3.5|         1.4|        0.3|\n",
            "|         5.7|        3.8|         1.7|        0.3|\n",
            "|         5.1|        3.8|         1.5|        0.3|\n",
            "+------------+-----------+------------+-----------+\n",
            "only showing top 20 rows\n",
            "\n"
          ],
          "name": "stdout"
        }
      ]
    },
    {
      "cell_type": "code",
      "metadata": {
        "id": "18qsrvZNHM0d"
      },
      "source": [
        "from pyspark.ml.clustering import KMeans"
      ],
      "execution_count": null,
      "outputs": []
    },
    {
      "cell_type": "code",
      "metadata": {
        "id": "nsPuxErLHnov"
      },
      "source": [
        "kmeans = KMeans().setK(3).setSeed(1)"
      ],
      "execution_count": null,
      "outputs": []
    },
    {
      "cell_type": "code",
      "metadata": {
        "id": "oWTsBiN5H1l9"
      },
      "source": [
        "irisAssembler = VectorAssembler(\n",
        "    inputCols = ['sepal_length','sepal_width','petal_length','petal_width'],\n",
        "    outputCol = 'features'\n",
        ")#combinig all input and assemble in one output"
      ],
      "execution_count": null,
      "outputs": []
    },
    {
      "cell_type": "code",
      "metadata": {
        "id": "r7knwIGdI-_i"
      },
      "source": [
        "ss_dff = irisAssembler.transform(ss_df)"
      ],
      "execution_count": null,
      "outputs": []
    },
    {
      "cell_type": "code",
      "metadata": {
        "id": "FTmNmzGuJOBd",
        "colab": {
          "base_uri": "https://localhost:8080/"
        },
        "outputId": "c9a8bdf3-0897-4d37-9dd3-b9be3f45f444"
      },
      "source": [
        "ss_dff.show()"
      ],
      "execution_count": null,
      "outputs": [
        {
          "output_type": "stream",
          "text": [
            "+------------+-----------+------------+-----------+-----------------+\n",
            "|sepal_length|sepal_width|petal_length|petal_width|         features|\n",
            "+------------+-----------+------------+-----------+-----------------+\n",
            "|         5.1|        3.5|         1.4|        0.2|[5.1,3.5,1.4,0.2]|\n",
            "|         4.9|        3.0|         1.4|        0.2|[4.9,3.0,1.4,0.2]|\n",
            "|         4.7|        3.2|         1.3|        0.2|[4.7,3.2,1.3,0.2]|\n",
            "|         4.6|        3.1|         1.5|        0.2|[4.6,3.1,1.5,0.2]|\n",
            "|         5.0|        3.6|         1.4|        0.2|[5.0,3.6,1.4,0.2]|\n",
            "|         5.4|        3.9|         1.7|        0.4|[5.4,3.9,1.7,0.4]|\n",
            "|         4.6|        3.4|         1.4|        0.3|[4.6,3.4,1.4,0.3]|\n",
            "|         5.0|        3.4|         1.5|        0.2|[5.0,3.4,1.5,0.2]|\n",
            "|         4.4|        2.9|         1.4|        0.2|[4.4,2.9,1.4,0.2]|\n",
            "|         4.9|        3.1|         1.5|        0.1|[4.9,3.1,1.5,0.1]|\n",
            "|         5.4|        3.7|         1.5|        0.2|[5.4,3.7,1.5,0.2]|\n",
            "|         4.8|        3.4|         1.6|        0.2|[4.8,3.4,1.6,0.2]|\n",
            "|         4.8|        3.0|         1.4|        0.1|[4.8,3.0,1.4,0.1]|\n",
            "|         4.3|        3.0|         1.1|        0.1|[4.3,3.0,1.1,0.1]|\n",
            "|         5.8|        4.0|         1.2|        0.2|[5.8,4.0,1.2,0.2]|\n",
            "|         5.7|        4.4|         1.5|        0.4|[5.7,4.4,1.5,0.4]|\n",
            "|         5.4|        3.9|         1.3|        0.4|[5.4,3.9,1.3,0.4]|\n",
            "|         5.1|        3.5|         1.4|        0.3|[5.1,3.5,1.4,0.3]|\n",
            "|         5.7|        3.8|         1.7|        0.3|[5.7,3.8,1.7,0.3]|\n",
            "|         5.1|        3.8|         1.5|        0.3|[5.1,3.8,1.5,0.3]|\n",
            "+------------+-----------+------------+-----------+-----------------+\n",
            "only showing top 20 rows\n",
            "\n"
          ],
          "name": "stdout"
        }
      ]
    },
    {
      "cell_type": "code",
      "metadata": {
        "id": "5nfl3UASJP8N"
      },
      "source": [
        "#creating module\n",
        "model = kmeans.fit(ss_dff)"
      ],
      "execution_count": null,
      "outputs": []
    },
    {
      "cell_type": "code",
      "metadata": {
        "id": "62kLKsI5JqfG"
      },
      "source": [
        "#predict function transform is keyword\n",
        "pred = model.transform(ss_dff) "
      ],
      "execution_count": null,
      "outputs": []
    },
    {
      "cell_type": "code",
      "metadata": {
        "id": "R2lrk9bPKhsA",
        "colab": {
          "base_uri": "https://localhost:8080/"
        },
        "outputId": "c649a5a3-f180-497a-dc53-360f427ed873"
      },
      "source": [
        "pred.show(110)"
      ],
      "execution_count": null,
      "outputs": [
        {
          "output_type": "stream",
          "text": [
            "+------------+-----------+------------+-----------+-----------------+----------+\n",
            "|sepal_length|sepal_width|petal_length|petal_width|         features|prediction|\n",
            "+------------+-----------+------------+-----------+-----------------+----------+\n",
            "|         5.1|        3.5|         1.4|        0.2|[5.1,3.5,1.4,0.2]|         1|\n",
            "|         4.9|        3.0|         1.4|        0.2|[4.9,3.0,1.4,0.2]|         1|\n",
            "|         4.7|        3.2|         1.3|        0.2|[4.7,3.2,1.3,0.2]|         1|\n",
            "|         4.6|        3.1|         1.5|        0.2|[4.6,3.1,1.5,0.2]|         1|\n",
            "|         5.0|        3.6|         1.4|        0.2|[5.0,3.6,1.4,0.2]|         1|\n",
            "|         5.4|        3.9|         1.7|        0.4|[5.4,3.9,1.7,0.4]|         1|\n",
            "|         4.6|        3.4|         1.4|        0.3|[4.6,3.4,1.4,0.3]|         1|\n",
            "|         5.0|        3.4|         1.5|        0.2|[5.0,3.4,1.5,0.2]|         1|\n",
            "|         4.4|        2.9|         1.4|        0.2|[4.4,2.9,1.4,0.2]|         1|\n",
            "|         4.9|        3.1|         1.5|        0.1|[4.9,3.1,1.5,0.1]|         1|\n",
            "|         5.4|        3.7|         1.5|        0.2|[5.4,3.7,1.5,0.2]|         1|\n",
            "|         4.8|        3.4|         1.6|        0.2|[4.8,3.4,1.6,0.2]|         1|\n",
            "|         4.8|        3.0|         1.4|        0.1|[4.8,3.0,1.4,0.1]|         1|\n",
            "|         4.3|        3.0|         1.1|        0.1|[4.3,3.0,1.1,0.1]|         1|\n",
            "|         5.8|        4.0|         1.2|        0.2|[5.8,4.0,1.2,0.2]|         1|\n",
            "|         5.7|        4.4|         1.5|        0.4|[5.7,4.4,1.5,0.4]|         1|\n",
            "|         5.4|        3.9|         1.3|        0.4|[5.4,3.9,1.3,0.4]|         1|\n",
            "|         5.1|        3.5|         1.4|        0.3|[5.1,3.5,1.4,0.3]|         1|\n",
            "|         5.7|        3.8|         1.7|        0.3|[5.7,3.8,1.7,0.3]|         1|\n",
            "|         5.1|        3.8|         1.5|        0.3|[5.1,3.8,1.5,0.3]|         1|\n",
            "|         5.4|        3.4|         1.7|        0.2|[5.4,3.4,1.7,0.2]|         1|\n",
            "|         5.1|        3.7|         1.5|        0.4|[5.1,3.7,1.5,0.4]|         1|\n",
            "|         4.6|        3.6|         1.0|        0.2|[4.6,3.6,1.0,0.2]|         1|\n",
            "|         5.1|        3.3|         1.7|        0.5|[5.1,3.3,1.7,0.5]|         1|\n",
            "|         4.8|        3.4|         1.9|        0.2|[4.8,3.4,1.9,0.2]|         1|\n",
            "|         5.0|        3.0|         1.6|        0.2|[5.0,3.0,1.6,0.2]|         1|\n",
            "|         5.0|        3.4|         1.6|        0.4|[5.0,3.4,1.6,0.4]|         1|\n",
            "|         5.2|        3.5|         1.5|        0.2|[5.2,3.5,1.5,0.2]|         1|\n",
            "|         5.2|        3.4|         1.4|        0.2|[5.2,3.4,1.4,0.2]|         1|\n",
            "|         4.7|        3.2|         1.6|        0.2|[4.7,3.2,1.6,0.2]|         1|\n",
            "|         4.8|        3.1|         1.6|        0.2|[4.8,3.1,1.6,0.2]|         1|\n",
            "|         5.4|        3.4|         1.5|        0.4|[5.4,3.4,1.5,0.4]|         1|\n",
            "|         5.2|        4.1|         1.5|        0.1|[5.2,4.1,1.5,0.1]|         1|\n",
            "|         5.5|        4.2|         1.4|        0.2|[5.5,4.2,1.4,0.2]|         1|\n",
            "|         4.9|        3.1|         1.5|        0.2|[4.9,3.1,1.5,0.2]|         1|\n",
            "|         5.0|        3.2|         1.2|        0.2|[5.0,3.2,1.2,0.2]|         1|\n",
            "|         5.5|        3.5|         1.3|        0.2|[5.5,3.5,1.3,0.2]|         1|\n",
            "|         4.9|        3.6|         1.4|        0.1|[4.9,3.6,1.4,0.1]|         1|\n",
            "|         4.4|        3.0|         1.3|        0.2|[4.4,3.0,1.3,0.2]|         1|\n",
            "|         5.1|        3.4|         1.5|        0.2|[5.1,3.4,1.5,0.2]|         1|\n",
            "|         5.0|        3.5|         1.3|        0.3|[5.0,3.5,1.3,0.3]|         1|\n",
            "|         4.5|        2.3|         1.3|        0.3|[4.5,2.3,1.3,0.3]|         1|\n",
            "|         4.4|        3.2|         1.3|        0.2|[4.4,3.2,1.3,0.2]|         1|\n",
            "|         5.0|        3.5|         1.6|        0.6|[5.0,3.5,1.6,0.6]|         1|\n",
            "|         5.1|        3.8|         1.9|        0.4|[5.1,3.8,1.9,0.4]|         1|\n",
            "|         4.8|        3.0|         1.4|        0.3|[4.8,3.0,1.4,0.3]|         1|\n",
            "|         5.1|        3.8|         1.6|        0.2|[5.1,3.8,1.6,0.2]|         1|\n",
            "|         4.6|        3.2|         1.4|        0.2|[4.6,3.2,1.4,0.2]|         1|\n",
            "|         5.3|        3.7|         1.5|        0.2|[5.3,3.7,1.5,0.2]|         1|\n",
            "|         5.0|        3.3|         1.4|        0.2|[5.0,3.3,1.4,0.2]|         1|\n",
            "|         7.0|        3.2|         4.7|        1.4|[7.0,3.2,4.7,1.4]|         2|\n",
            "|         6.4|        3.2|         4.5|        1.5|[6.4,3.2,4.5,1.5]|         0|\n",
            "|         6.9|        3.1|         4.9|        1.5|[6.9,3.1,4.9,1.5]|         2|\n",
            "|         5.5|        2.3|         4.0|        1.3|[5.5,2.3,4.0,1.3]|         0|\n",
            "|         6.5|        2.8|         4.6|        1.5|[6.5,2.8,4.6,1.5]|         0|\n",
            "|         5.7|        2.8|         4.5|        1.3|[5.7,2.8,4.5,1.3]|         0|\n",
            "|         6.3|        3.3|         4.7|        1.6|[6.3,3.3,4.7,1.6]|         0|\n",
            "|         4.9|        2.4|         3.3|        1.0|[4.9,2.4,3.3,1.0]|         0|\n",
            "|         6.6|        2.9|         4.6|        1.3|[6.6,2.9,4.6,1.3]|         0|\n",
            "|         5.2|        2.7|         3.9|        1.4|[5.2,2.7,3.9,1.4]|         0|\n",
            "|         5.0|        2.0|         3.5|        1.0|[5.0,2.0,3.5,1.0]|         0|\n",
            "|         5.9|        3.0|         4.2|        1.5|[5.9,3.0,4.2,1.5]|         0|\n",
            "|         6.0|        2.2|         4.0|        1.0|[6.0,2.2,4.0,1.0]|         0|\n",
            "|         6.1|        2.9|         4.7|        1.4|[6.1,2.9,4.7,1.4]|         0|\n",
            "|         5.6|        2.9|         3.6|        1.3|[5.6,2.9,3.6,1.3]|         0|\n",
            "|         6.7|        3.1|         4.4|        1.4|[6.7,3.1,4.4,1.4]|         0|\n",
            "|         5.6|        3.0|         4.5|        1.5|[5.6,3.0,4.5,1.5]|         0|\n",
            "|         5.8|        2.7|         4.1|        1.0|[5.8,2.7,4.1,1.0]|         0|\n",
            "|         6.2|        2.2|         4.5|        1.5|[6.2,2.2,4.5,1.5]|         0|\n",
            "|         5.6|        2.5|         3.9|        1.1|[5.6,2.5,3.9,1.1]|         0|\n",
            "|         5.9|        3.2|         4.8|        1.8|[5.9,3.2,4.8,1.8]|         0|\n",
            "|         6.1|        2.8|         4.0|        1.3|[6.1,2.8,4.0,1.3]|         0|\n",
            "|         6.3|        2.5|         4.9|        1.5|[6.3,2.5,4.9,1.5]|         0|\n",
            "|         6.1|        2.8|         4.7|        1.2|[6.1,2.8,4.7,1.2]|         0|\n",
            "|         6.4|        2.9|         4.3|        1.3|[6.4,2.9,4.3,1.3]|         0|\n",
            "|         6.6|        3.0|         4.4|        1.4|[6.6,3.0,4.4,1.4]|         0|\n",
            "|         6.8|        2.8|         4.8|        1.4|[6.8,2.8,4.8,1.4]|         0|\n",
            "|         6.7|        3.0|         5.0|        1.7|[6.7,3.0,5.0,1.7]|         2|\n",
            "|         6.0|        2.9|         4.5|        1.5|[6.0,2.9,4.5,1.5]|         0|\n",
            "|         5.7|        2.6|         3.5|        1.0|[5.7,2.6,3.5,1.0]|         0|\n",
            "|         5.5|        2.4|         3.8|        1.1|[5.5,2.4,3.8,1.1]|         0|\n",
            "|         5.5|        2.4|         3.7|        1.0|[5.5,2.4,3.7,1.0]|         0|\n",
            "|         5.8|        2.7|         3.9|        1.2|[5.8,2.7,3.9,1.2]|         0|\n",
            "|         6.0|        2.7|         5.1|        1.6|[6.0,2.7,5.1,1.6]|         0|\n",
            "|         5.4|        3.0|         4.5|        1.5|[5.4,3.0,4.5,1.5]|         0|\n",
            "|         6.0|        3.4|         4.5|        1.6|[6.0,3.4,4.5,1.6]|         0|\n",
            "|         6.7|        3.1|         4.7|        1.5|[6.7,3.1,4.7,1.5]|         0|\n",
            "|         6.3|        2.3|         4.4|        1.3|[6.3,2.3,4.4,1.3]|         0|\n",
            "|         5.6|        3.0|         4.1|        1.3|[5.6,3.0,4.1,1.3]|         0|\n",
            "|         5.5|        2.5|         4.0|        1.3|[5.5,2.5,4.0,1.3]|         0|\n",
            "|         5.5|        2.6|         4.4|        1.2|[5.5,2.6,4.4,1.2]|         0|\n",
            "|         6.1|        3.0|         4.6|        1.4|[6.1,3.0,4.6,1.4]|         0|\n",
            "|         5.8|        2.6|         4.0|        1.2|[5.8,2.6,4.0,1.2]|         0|\n",
            "|         5.0|        2.3|         3.3|        1.0|[5.0,2.3,3.3,1.0]|         0|\n",
            "|         5.6|        2.7|         4.2|        1.3|[5.6,2.7,4.2,1.3]|         0|\n",
            "|         5.7|        3.0|         4.2|        1.2|[5.7,3.0,4.2,1.2]|         0|\n",
            "|         5.7|        2.9|         4.2|        1.3|[5.7,2.9,4.2,1.3]|         0|\n",
            "|         6.2|        2.9|         4.3|        1.3|[6.2,2.9,4.3,1.3]|         0|\n",
            "|         5.1|        2.5|         3.0|        1.1|[5.1,2.5,3.0,1.1]|         0|\n",
            "|         5.7|        2.8|         4.1|        1.3|[5.7,2.8,4.1,1.3]|         0|\n",
            "|         6.3|        3.3|         6.0|        2.5|[6.3,3.3,6.0,2.5]|         2|\n",
            "|         5.8|        2.7|         5.1|        1.9|[5.8,2.7,5.1,1.9]|         0|\n",
            "|         7.1|        3.0|         5.9|        2.1|[7.1,3.0,5.9,2.1]|         2|\n",
            "|         6.3|        2.9|         5.6|        1.8|[6.3,2.9,5.6,1.8]|         2|\n",
            "|         6.5|        3.0|         5.8|        2.2|[6.5,3.0,5.8,2.2]|         2|\n",
            "|         7.6|        3.0|         6.6|        2.1|[7.6,3.0,6.6,2.1]|         2|\n",
            "|         4.9|        2.5|         4.5|        1.7|[4.9,2.5,4.5,1.7]|         0|\n",
            "|         7.3|        2.9|         6.3|        1.8|[7.3,2.9,6.3,1.8]|         2|\n",
            "|         6.7|        2.5|         5.8|        1.8|[6.7,2.5,5.8,1.8]|         2|\n",
            "|         7.2|        3.6|         6.1|        2.5|[7.2,3.6,6.1,2.5]|         2|\n",
            "+------------+-----------+------------+-----------+-----------------+----------+\n",
            "only showing top 110 rows\n",
            "\n"
          ],
          "name": "stdout"
        }
      ]
    },
    {
      "cell_type": "markdown",
      "metadata": {
        "id": "vXvjKB0XMaLQ"
      },
      "source": [
        "KNN - Supervised"
      ]
    },
    {
      "cell_type": "code",
      "metadata": {
        "id": "VIg4hticKlRq",
        "colab": {
          "base_uri": "https://localhost:8080/"
        },
        "outputId": "84acdaee-4d3e-430f-d5d5-dbbad10dcb33"
      },
      "source": [
        "iris_data"
      ],
      "execution_count": null,
      "outputs": [
        {
          "output_type": "execute_result",
          "data": {
            "text/plain": [
              "{'DESCR': '.. _iris_dataset:\\n\\nIris plants dataset\\n--------------------\\n\\n**Data Set Characteristics:**\\n\\n    :Number of Instances: 150 (50 in each of three classes)\\n    :Number of Attributes: 4 numeric, predictive attributes and the class\\n    :Attribute Information:\\n        - sepal length in cm\\n        - sepal width in cm\\n        - petal length in cm\\n        - petal width in cm\\n        - class:\\n                - Iris-Setosa\\n                - Iris-Versicolour\\n                - Iris-Virginica\\n                \\n    :Summary Statistics:\\n\\n    ============== ==== ==== ======= ===== ====================\\n                    Min  Max   Mean    SD   Class Correlation\\n    ============== ==== ==== ======= ===== ====================\\n    sepal length:   4.3  7.9   5.84   0.83    0.7826\\n    sepal width:    2.0  4.4   3.05   0.43   -0.4194\\n    petal length:   1.0  6.9   3.76   1.76    0.9490  (high!)\\n    petal width:    0.1  2.5   1.20   0.76    0.9565  (high!)\\n    ============== ==== ==== ======= ===== ====================\\n\\n    :Missing Attribute Values: None\\n    :Class Distribution: 33.3% for each of 3 classes.\\n    :Creator: R.A. Fisher\\n    :Donor: Michael Marshall (MARSHALL%PLU@io.arc.nasa.gov)\\n    :Date: July, 1988\\n\\nThe famous Iris database, first used by Sir R.A. Fisher. The dataset is taken\\nfrom Fisher\\'s paper. Note that it\\'s the same as in R, but not as in the UCI\\nMachine Learning Repository, which has two wrong data points.\\n\\nThis is perhaps the best known database to be found in the\\npattern recognition literature.  Fisher\\'s paper is a classic in the field and\\nis referenced frequently to this day.  (See Duda & Hart, for example.)  The\\ndata set contains 3 classes of 50 instances each, where each class refers to a\\ntype of iris plant.  One class is linearly separable from the other 2; the\\nlatter are NOT linearly separable from each other.\\n\\n.. topic:: References\\n\\n   - Fisher, R.A. \"The use of multiple measurements in taxonomic problems\"\\n     Annual Eugenics, 7, Part II, 179-188 (1936); also in \"Contributions to\\n     Mathematical Statistics\" (John Wiley, NY, 1950).\\n   - Duda, R.O., & Hart, P.E. (1973) Pattern Classification and Scene Analysis.\\n     (Q327.D83) John Wiley & Sons.  ISBN 0-471-22361-1.  See page 218.\\n   - Dasarathy, B.V. (1980) \"Nosing Around the Neighborhood: A New System\\n     Structure and Classification Rule for Recognition in Partially Exposed\\n     Environments\".  IEEE Transactions on Pattern Analysis and Machine\\n     Intelligence, Vol. PAMI-2, No. 1, 67-71.\\n   - Gates, G.W. (1972) \"The Reduced Nearest Neighbor Rule\".  IEEE Transactions\\n     on Information Theory, May 1972, 431-433.\\n   - See also: 1988 MLC Proceedings, 54-64.  Cheeseman et al\"s AUTOCLASS II\\n     conceptual clustering system finds 3 classes in the data.\\n   - Many, many more ...',\n",
              " 'data': array([[5.1, 3.5, 1.4, 0.2],\n",
              "        [4.9, 3. , 1.4, 0.2],\n",
              "        [4.7, 3.2, 1.3, 0.2],\n",
              "        [4.6, 3.1, 1.5, 0.2],\n",
              "        [5. , 3.6, 1.4, 0.2],\n",
              "        [5.4, 3.9, 1.7, 0.4],\n",
              "        [4.6, 3.4, 1.4, 0.3],\n",
              "        [5. , 3.4, 1.5, 0.2],\n",
              "        [4.4, 2.9, 1.4, 0.2],\n",
              "        [4.9, 3.1, 1.5, 0.1],\n",
              "        [5.4, 3.7, 1.5, 0.2],\n",
              "        [4.8, 3.4, 1.6, 0.2],\n",
              "        [4.8, 3. , 1.4, 0.1],\n",
              "        [4.3, 3. , 1.1, 0.1],\n",
              "        [5.8, 4. , 1.2, 0.2],\n",
              "        [5.7, 4.4, 1.5, 0.4],\n",
              "        [5.4, 3.9, 1.3, 0.4],\n",
              "        [5.1, 3.5, 1.4, 0.3],\n",
              "        [5.7, 3.8, 1.7, 0.3],\n",
              "        [5.1, 3.8, 1.5, 0.3],\n",
              "        [5.4, 3.4, 1.7, 0.2],\n",
              "        [5.1, 3.7, 1.5, 0.4],\n",
              "        [4.6, 3.6, 1. , 0.2],\n",
              "        [5.1, 3.3, 1.7, 0.5],\n",
              "        [4.8, 3.4, 1.9, 0.2],\n",
              "        [5. , 3. , 1.6, 0.2],\n",
              "        [5. , 3.4, 1.6, 0.4],\n",
              "        [5.2, 3.5, 1.5, 0.2],\n",
              "        [5.2, 3.4, 1.4, 0.2],\n",
              "        [4.7, 3.2, 1.6, 0.2],\n",
              "        [4.8, 3.1, 1.6, 0.2],\n",
              "        [5.4, 3.4, 1.5, 0.4],\n",
              "        [5.2, 4.1, 1.5, 0.1],\n",
              "        [5.5, 4.2, 1.4, 0.2],\n",
              "        [4.9, 3.1, 1.5, 0.2],\n",
              "        [5. , 3.2, 1.2, 0.2],\n",
              "        [5.5, 3.5, 1.3, 0.2],\n",
              "        [4.9, 3.6, 1.4, 0.1],\n",
              "        [4.4, 3. , 1.3, 0.2],\n",
              "        [5.1, 3.4, 1.5, 0.2],\n",
              "        [5. , 3.5, 1.3, 0.3],\n",
              "        [4.5, 2.3, 1.3, 0.3],\n",
              "        [4.4, 3.2, 1.3, 0.2],\n",
              "        [5. , 3.5, 1.6, 0.6],\n",
              "        [5.1, 3.8, 1.9, 0.4],\n",
              "        [4.8, 3. , 1.4, 0.3],\n",
              "        [5.1, 3.8, 1.6, 0.2],\n",
              "        [4.6, 3.2, 1.4, 0.2],\n",
              "        [5.3, 3.7, 1.5, 0.2],\n",
              "        [5. , 3.3, 1.4, 0.2],\n",
              "        [7. , 3.2, 4.7, 1.4],\n",
              "        [6.4, 3.2, 4.5, 1.5],\n",
              "        [6.9, 3.1, 4.9, 1.5],\n",
              "        [5.5, 2.3, 4. , 1.3],\n",
              "        [6.5, 2.8, 4.6, 1.5],\n",
              "        [5.7, 2.8, 4.5, 1.3],\n",
              "        [6.3, 3.3, 4.7, 1.6],\n",
              "        [4.9, 2.4, 3.3, 1. ],\n",
              "        [6.6, 2.9, 4.6, 1.3],\n",
              "        [5.2, 2.7, 3.9, 1.4],\n",
              "        [5. , 2. , 3.5, 1. ],\n",
              "        [5.9, 3. , 4.2, 1.5],\n",
              "        [6. , 2.2, 4. , 1. ],\n",
              "        [6.1, 2.9, 4.7, 1.4],\n",
              "        [5.6, 2.9, 3.6, 1.3],\n",
              "        [6.7, 3.1, 4.4, 1.4],\n",
              "        [5.6, 3. , 4.5, 1.5],\n",
              "        [5.8, 2.7, 4.1, 1. ],\n",
              "        [6.2, 2.2, 4.5, 1.5],\n",
              "        [5.6, 2.5, 3.9, 1.1],\n",
              "        [5.9, 3.2, 4.8, 1.8],\n",
              "        [6.1, 2.8, 4. , 1.3],\n",
              "        [6.3, 2.5, 4.9, 1.5],\n",
              "        [6.1, 2.8, 4.7, 1.2],\n",
              "        [6.4, 2.9, 4.3, 1.3],\n",
              "        [6.6, 3. , 4.4, 1.4],\n",
              "        [6.8, 2.8, 4.8, 1.4],\n",
              "        [6.7, 3. , 5. , 1.7],\n",
              "        [6. , 2.9, 4.5, 1.5],\n",
              "        [5.7, 2.6, 3.5, 1. ],\n",
              "        [5.5, 2.4, 3.8, 1.1],\n",
              "        [5.5, 2.4, 3.7, 1. ],\n",
              "        [5.8, 2.7, 3.9, 1.2],\n",
              "        [6. , 2.7, 5.1, 1.6],\n",
              "        [5.4, 3. , 4.5, 1.5],\n",
              "        [6. , 3.4, 4.5, 1.6],\n",
              "        [6.7, 3.1, 4.7, 1.5],\n",
              "        [6.3, 2.3, 4.4, 1.3],\n",
              "        [5.6, 3. , 4.1, 1.3],\n",
              "        [5.5, 2.5, 4. , 1.3],\n",
              "        [5.5, 2.6, 4.4, 1.2],\n",
              "        [6.1, 3. , 4.6, 1.4],\n",
              "        [5.8, 2.6, 4. , 1.2],\n",
              "        [5. , 2.3, 3.3, 1. ],\n",
              "        [5.6, 2.7, 4.2, 1.3],\n",
              "        [5.7, 3. , 4.2, 1.2],\n",
              "        [5.7, 2.9, 4.2, 1.3],\n",
              "        [6.2, 2.9, 4.3, 1.3],\n",
              "        [5.1, 2.5, 3. , 1.1],\n",
              "        [5.7, 2.8, 4.1, 1.3],\n",
              "        [6.3, 3.3, 6. , 2.5],\n",
              "        [5.8, 2.7, 5.1, 1.9],\n",
              "        [7.1, 3. , 5.9, 2.1],\n",
              "        [6.3, 2.9, 5.6, 1.8],\n",
              "        [6.5, 3. , 5.8, 2.2],\n",
              "        [7.6, 3. , 6.6, 2.1],\n",
              "        [4.9, 2.5, 4.5, 1.7],\n",
              "        [7.3, 2.9, 6.3, 1.8],\n",
              "        [6.7, 2.5, 5.8, 1.8],\n",
              "        [7.2, 3.6, 6.1, 2.5],\n",
              "        [6.5, 3.2, 5.1, 2. ],\n",
              "        [6.4, 2.7, 5.3, 1.9],\n",
              "        [6.8, 3. , 5.5, 2.1],\n",
              "        [5.7, 2.5, 5. , 2. ],\n",
              "        [5.8, 2.8, 5.1, 2.4],\n",
              "        [6.4, 3.2, 5.3, 2.3],\n",
              "        [6.5, 3. , 5.5, 1.8],\n",
              "        [7.7, 3.8, 6.7, 2.2],\n",
              "        [7.7, 2.6, 6.9, 2.3],\n",
              "        [6. , 2.2, 5. , 1.5],\n",
              "        [6.9, 3.2, 5.7, 2.3],\n",
              "        [5.6, 2.8, 4.9, 2. ],\n",
              "        [7.7, 2.8, 6.7, 2. ],\n",
              "        [6.3, 2.7, 4.9, 1.8],\n",
              "        [6.7, 3.3, 5.7, 2.1],\n",
              "        [7.2, 3.2, 6. , 1.8],\n",
              "        [6.2, 2.8, 4.8, 1.8],\n",
              "        [6.1, 3. , 4.9, 1.8],\n",
              "        [6.4, 2.8, 5.6, 2.1],\n",
              "        [7.2, 3. , 5.8, 1.6],\n",
              "        [7.4, 2.8, 6.1, 1.9],\n",
              "        [7.9, 3.8, 6.4, 2. ],\n",
              "        [6.4, 2.8, 5.6, 2.2],\n",
              "        [6.3, 2.8, 5.1, 1.5],\n",
              "        [6.1, 2.6, 5.6, 1.4],\n",
              "        [7.7, 3. , 6.1, 2.3],\n",
              "        [6.3, 3.4, 5.6, 2.4],\n",
              "        [6.4, 3.1, 5.5, 1.8],\n",
              "        [6. , 3. , 4.8, 1.8],\n",
              "        [6.9, 3.1, 5.4, 2.1],\n",
              "        [6.7, 3.1, 5.6, 2.4],\n",
              "        [6.9, 3.1, 5.1, 2.3],\n",
              "        [5.8, 2.7, 5.1, 1.9],\n",
              "        [6.8, 3.2, 5.9, 2.3],\n",
              "        [6.7, 3.3, 5.7, 2.5],\n",
              "        [6.7, 3. , 5.2, 2.3],\n",
              "        [6.3, 2.5, 5. , 1.9],\n",
              "        [6.5, 3. , 5.2, 2. ],\n",
              "        [6.2, 3.4, 5.4, 2.3],\n",
              "        [5.9, 3. , 5.1, 1.8]]),\n",
              " 'feature_names': ['sepal length (cm)',\n",
              "  'sepal width (cm)',\n",
              "  'petal length (cm)',\n",
              "  'petal width (cm)'],\n",
              " 'filename': '/usr/local/lib/python3.7/dist-packages/sklearn/datasets/data/iris.csv',\n",
              " 'target': array([0, 0, 0, 0, 0, 0, 0, 0, 0, 0, 0, 0, 0, 0, 0, 0, 0, 0, 0, 0, 0, 0,\n",
              "        0, 0, 0, 0, 0, 0, 0, 0, 0, 0, 0, 0, 0, 0, 0, 0, 0, 0, 0, 0, 0, 0,\n",
              "        0, 0, 0, 0, 0, 0, 1, 1, 1, 1, 1, 1, 1, 1, 1, 1, 1, 1, 1, 1, 1, 1,\n",
              "        1, 1, 1, 1, 1, 1, 1, 1, 1, 1, 1, 1, 1, 1, 1, 1, 1, 1, 1, 1, 1, 1,\n",
              "        1, 1, 1, 1, 1, 1, 1, 1, 1, 1, 1, 1, 2, 2, 2, 2, 2, 2, 2, 2, 2, 2,\n",
              "        2, 2, 2, 2, 2, 2, 2, 2, 2, 2, 2, 2, 2, 2, 2, 2, 2, 2, 2, 2, 2, 2,\n",
              "        2, 2, 2, 2, 2, 2, 2, 2, 2, 2, 2, 2, 2, 2, 2, 2, 2, 2]),\n",
              " 'target_names': array(['setosa', 'versicolor', 'virginica'], dtype='<U10')}"
            ]
          },
          "metadata": {
            "tags": []
          },
          "execution_count": 196
        }
      ]
    },
    {
      "cell_type": "code",
      "metadata": {
        "id": "bwe1A8TxNGvV",
        "colab": {
          "base_uri": "https://localhost:8080/"
        },
        "outputId": "9c438fd1-0fe2-47d1-9262-ca48a038bea4"
      },
      "source": [
        "type(iris_data.target.tolist())"
      ],
      "execution_count": null,
      "outputs": [
        {
          "output_type": "execute_result",
          "data": {
            "text/plain": [
              "list"
            ]
          },
          "metadata": {
            "tags": []
          },
          "execution_count": 197
        }
      ]
    },
    {
      "cell_type": "code",
      "metadata": {
        "id": "r8tZVpr2NMPz",
        "colab": {
          "base_uri": "https://localhost:8080/"
        },
        "outputId": "103b20d6-7adb-4aa2-ead4-4bd214362b79"
      },
      "source": [
        "type(iris_data.target.tolist())"
      ],
      "execution_count": null,
      "outputs": [
        {
          "output_type": "execute_result",
          "data": {
            "text/plain": [
              "list"
            ]
          },
          "metadata": {
            "tags": []
          },
          "execution_count": 198
        }
      ]
    },
    {
      "cell_type": "code",
      "metadata": {
        "id": "95St5v55OP_Q"
      },
      "source": [
        "temp = ss.createDataFrame([iris_data.target.tolist()])"
      ],
      "execution_count": null,
      "outputs": []
    },
    {
      "cell_type": "code",
      "metadata": {
        "id": "VSDVKEnVOmpe",
        "colab": {
          "base_uri": "https://localhost:8080/"
        },
        "outputId": "f1d7667c-fe11-4b32-bea3-bd40384b4904"
      },
      "source": [
        "#it is converted in different array but we want in single\n",
        "temp.show()"
      ],
      "execution_count": null,
      "outputs": [
        {
          "output_type": "stream",
          "text": [
            "+---+---+---+---+---+---+---+---+---+---+---+---+---+---+---+---+---+---+---+---+---+---+---+---+---+---+---+---+---+---+---+---+---+---+---+---+---+---+---+---+---+---+---+---+---+---+---+---+---+---+---+---+---+---+---+---+---+---+---+---+---+---+---+---+---+---+---+---+---+---+---+---+---+---+---+---+---+---+---+---+---+---+---+---+---+---+---+---+---+---+---+---+---+---+---+---+---+---+---+----+----+----+----+----+----+----+----+----+----+----+----+----+----+----+----+----+----+----+----+----+----+----+----+----+----+----+----+----+----+----+----+----+----+----+----+----+----+----+----+----+----+----+----+----+----+----+----+----+----+----+\n",
            "| _1| _2| _3| _4| _5| _6| _7| _8| _9|_10|_11|_12|_13|_14|_15|_16|_17|_18|_19|_20|_21|_22|_23|_24|_25|_26|_27|_28|_29|_30|_31|_32|_33|_34|_35|_36|_37|_38|_39|_40|_41|_42|_43|_44|_45|_46|_47|_48|_49|_50|_51|_52|_53|_54|_55|_56|_57|_58|_59|_60|_61|_62|_63|_64|_65|_66|_67|_68|_69|_70|_71|_72|_73|_74|_75|_76|_77|_78|_79|_80|_81|_82|_83|_84|_85|_86|_87|_88|_89|_90|_91|_92|_93|_94|_95|_96|_97|_98|_99|_100|_101|_102|_103|_104|_105|_106|_107|_108|_109|_110|_111|_112|_113|_114|_115|_116|_117|_118|_119|_120|_121|_122|_123|_124|_125|_126|_127|_128|_129|_130|_131|_132|_133|_134|_135|_136|_137|_138|_139|_140|_141|_142|_143|_144|_145|_146|_147|_148|_149|_150|\n",
            "+---+---+---+---+---+---+---+---+---+---+---+---+---+---+---+---+---+---+---+---+---+---+---+---+---+---+---+---+---+---+---+---+---+---+---+---+---+---+---+---+---+---+---+---+---+---+---+---+---+---+---+---+---+---+---+---+---+---+---+---+---+---+---+---+---+---+---+---+---+---+---+---+---+---+---+---+---+---+---+---+---+---+---+---+---+---+---+---+---+---+---+---+---+---+---+---+---+---+---+----+----+----+----+----+----+----+----+----+----+----+----+----+----+----+----+----+----+----+----+----+----+----+----+----+----+----+----+----+----+----+----+----+----+----+----+----+----+----+----+----+----+----+----+----+----+----+----+----+----+----+\n",
            "|  0|  0|  0|  0|  0|  0|  0|  0|  0|  0|  0|  0|  0|  0|  0|  0|  0|  0|  0|  0|  0|  0|  0|  0|  0|  0|  0|  0|  0|  0|  0|  0|  0|  0|  0|  0|  0|  0|  0|  0|  0|  0|  0|  0|  0|  0|  0|  0|  0|  0|  1|  1|  1|  1|  1|  1|  1|  1|  1|  1|  1|  1|  1|  1|  1|  1|  1|  1|  1|  1|  1|  1|  1|  1|  1|  1|  1|  1|  1|  1|  1|  1|  1|  1|  1|  1|  1|  1|  1|  1|  1|  1|  1|  1|  1|  1|  1|  1|  1|   1|   2|   2|   2|   2|   2|   2|   2|   2|   2|   2|   2|   2|   2|   2|   2|   2|   2|   2|   2|   2|   2|   2|   2|   2|   2|   2|   2|   2|   2|   2|   2|   2|   2|   2|   2|   2|   2|   2|   2|   2|   2|   2|   2|   2|   2|   2|   2|   2|   2|   2|\n",
            "+---+---+---+---+---+---+---+---+---+---+---+---+---+---+---+---+---+---+---+---+---+---+---+---+---+---+---+---+---+---+---+---+---+---+---+---+---+---+---+---+---+---+---+---+---+---+---+---+---+---+---+---+---+---+---+---+---+---+---+---+---+---+---+---+---+---+---+---+---+---+---+---+---+---+---+---+---+---+---+---+---+---+---+---+---+---+---+---+---+---+---+---+---+---+---+---+---+---+---+----+----+----+----+----+----+----+----+----+----+----+----+----+----+----+----+----+----+----+----+----+----+----+----+----+----+----+----+----+----+----+----+----+----+----+----+----+----+----+----+----+----+----+----+----+----+----+----+----+----+----+\n",
            "\n"
          ],
          "name": "stdout"
        }
      ]
    },
    {
      "cell_type": "code",
      "metadata": {
        "id": "n6Nb7_gERcQV"
      },
      "source": [
        "pd_df['label'] = iris_data.target"
      ],
      "execution_count": null,
      "outputs": []
    },
    {
      "cell_type": "code",
      "metadata": {
        "id": "u8KPYozBRMva",
        "colab": {
          "base_uri": "https://localhost:8080/",
          "height": 422
        },
        "outputId": "f9ec6b92-edbb-4dc8-b654-b718584917d6"
      },
      "source": [
        "pd_df"
      ],
      "execution_count": null,
      "outputs": [
        {
          "output_type": "execute_result",
          "data": {
            "text/html": [
              "<div>\n",
              "<style scoped>\n",
              "    .dataframe tbody tr th:only-of-type {\n",
              "        vertical-align: middle;\n",
              "    }\n",
              "\n",
              "    .dataframe tbody tr th {\n",
              "        vertical-align: top;\n",
              "    }\n",
              "\n",
              "    .dataframe thead th {\n",
              "        text-align: right;\n",
              "    }\n",
              "</style>\n",
              "<table border=\"1\" class=\"dataframe\">\n",
              "  <thead>\n",
              "    <tr style=\"text-align: right;\">\n",
              "      <th></th>\n",
              "      <th>sepal_length</th>\n",
              "      <th>sepal_width</th>\n",
              "      <th>petal_length</th>\n",
              "      <th>petal_width</th>\n",
              "      <th>label</th>\n",
              "    </tr>\n",
              "  </thead>\n",
              "  <tbody>\n",
              "    <tr>\n",
              "      <th>0</th>\n",
              "      <td>5.1</td>\n",
              "      <td>3.5</td>\n",
              "      <td>1.4</td>\n",
              "      <td>0.2</td>\n",
              "      <td>0</td>\n",
              "    </tr>\n",
              "    <tr>\n",
              "      <th>1</th>\n",
              "      <td>4.9</td>\n",
              "      <td>3.0</td>\n",
              "      <td>1.4</td>\n",
              "      <td>0.2</td>\n",
              "      <td>0</td>\n",
              "    </tr>\n",
              "    <tr>\n",
              "      <th>2</th>\n",
              "      <td>4.7</td>\n",
              "      <td>3.2</td>\n",
              "      <td>1.3</td>\n",
              "      <td>0.2</td>\n",
              "      <td>0</td>\n",
              "    </tr>\n",
              "    <tr>\n",
              "      <th>3</th>\n",
              "      <td>4.6</td>\n",
              "      <td>3.1</td>\n",
              "      <td>1.5</td>\n",
              "      <td>0.2</td>\n",
              "      <td>0</td>\n",
              "    </tr>\n",
              "    <tr>\n",
              "      <th>4</th>\n",
              "      <td>5.0</td>\n",
              "      <td>3.6</td>\n",
              "      <td>1.4</td>\n",
              "      <td>0.2</td>\n",
              "      <td>0</td>\n",
              "    </tr>\n",
              "    <tr>\n",
              "      <th>...</th>\n",
              "      <td>...</td>\n",
              "      <td>...</td>\n",
              "      <td>...</td>\n",
              "      <td>...</td>\n",
              "      <td>...</td>\n",
              "    </tr>\n",
              "    <tr>\n",
              "      <th>145</th>\n",
              "      <td>6.7</td>\n",
              "      <td>3.0</td>\n",
              "      <td>5.2</td>\n",
              "      <td>2.3</td>\n",
              "      <td>2</td>\n",
              "    </tr>\n",
              "    <tr>\n",
              "      <th>146</th>\n",
              "      <td>6.3</td>\n",
              "      <td>2.5</td>\n",
              "      <td>5.0</td>\n",
              "      <td>1.9</td>\n",
              "      <td>2</td>\n",
              "    </tr>\n",
              "    <tr>\n",
              "      <th>147</th>\n",
              "      <td>6.5</td>\n",
              "      <td>3.0</td>\n",
              "      <td>5.2</td>\n",
              "      <td>2.0</td>\n",
              "      <td>2</td>\n",
              "    </tr>\n",
              "    <tr>\n",
              "      <th>148</th>\n",
              "      <td>6.2</td>\n",
              "      <td>3.4</td>\n",
              "      <td>5.4</td>\n",
              "      <td>2.3</td>\n",
              "      <td>2</td>\n",
              "    </tr>\n",
              "    <tr>\n",
              "      <th>149</th>\n",
              "      <td>5.9</td>\n",
              "      <td>3.0</td>\n",
              "      <td>5.1</td>\n",
              "      <td>1.8</td>\n",
              "      <td>2</td>\n",
              "    </tr>\n",
              "  </tbody>\n",
              "</table>\n",
              "<p>150 rows × 5 columns</p>\n",
              "</div>"
            ],
            "text/plain": [
              "     sepal_length  sepal_width  petal_length  petal_width  label\n",
              "0             5.1          3.5           1.4          0.2      0\n",
              "1             4.9          3.0           1.4          0.2      0\n",
              "2             4.7          3.2           1.3          0.2      0\n",
              "3             4.6          3.1           1.5          0.2      0\n",
              "4             5.0          3.6           1.4          0.2      0\n",
              "..            ...          ...           ...          ...    ...\n",
              "145           6.7          3.0           5.2          2.3      2\n",
              "146           6.3          2.5           5.0          1.9      2\n",
              "147           6.5          3.0           5.2          2.0      2\n",
              "148           6.2          3.4           5.4          2.3      2\n",
              "149           5.9          3.0           5.1          1.8      2\n",
              "\n",
              "[150 rows x 5 columns]"
            ]
          },
          "metadata": {
            "tags": []
          },
          "execution_count": 202
        }
      ]
    },
    {
      "cell_type": "code",
      "metadata": {
        "id": "87fTXgyDPPZI"
      },
      "source": [
        "temparray = iris_data.target.reshape(1,150)"
      ],
      "execution_count": null,
      "outputs": []
    },
    {
      "cell_type": "code",
      "metadata": {
        "id": "P8jgGxlQPgND",
        "colab": {
          "base_uri": "https://localhost:8080/"
        },
        "outputId": "cb50695c-477e-446d-e8c0-b305d170e0ee"
      },
      "source": [
        "temparray.shape"
      ],
      "execution_count": null,
      "outputs": [
        {
          "output_type": "execute_result",
          "data": {
            "text/plain": [
              "(1, 150)"
            ]
          },
          "metadata": {
            "tags": []
          },
          "execution_count": 204
        }
      ]
    },
    {
      "cell_type": "code",
      "metadata": {
        "id": "Xn0g_xYzP3Si"
      },
      "source": [
        "temp = ss.createDataFrame([temparray.tolist()])"
      ],
      "execution_count": null,
      "outputs": []
    },
    {
      "cell_type": "code",
      "metadata": {
        "id": "9VJxHqJZQDPF",
        "colab": {
          "base_uri": "https://localhost:8080/"
        },
        "outputId": "8dd4ed3e-9590-4e2b-c8b9-021878a10278"
      },
      "source": [
        "temp.show()"
      ],
      "execution_count": null,
      "outputs": [
        {
          "output_type": "stream",
          "text": [
            "+--------------------+\n",
            "|                  _1|\n",
            "+--------------------+\n",
            "|[0, 0, 0, 0, 0, 0...|\n",
            "+--------------------+\n",
            "\n"
          ],
          "name": "stdout"
        }
      ]
    },
    {
      "cell_type": "code",
      "metadata": {
        "id": "iAXfdY_HQm9r"
      },
      "source": [
        ""
      ],
      "execution_count": null,
      "outputs": []
    }
  ]
}